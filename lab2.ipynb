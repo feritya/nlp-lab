{
  "nbformat": 4,
  "nbformat_minor": 0,
  "metadata": {
    "colab": {
      "provenance": []
    },
    "kernelspec": {
      "name": "python3",
      "display_name": "Python 3"
    },
    "language_info": {
      "name": "python"
    }
  },
  "cells": [
    {
      "cell_type": "code",
      "execution_count": 69,
      "metadata": {
        "id": "twAyD4fyqTl5"
      },
      "outputs": [],
      "source": [
        "import nltk"
      ]
    },
    {
      "cell_type": "code",
      "source": [
        "nltk.download('punkt')"
      ],
      "metadata": {
        "colab": {
          "base_uri": "https://localhost:8080/"
        },
        "id": "FH1UbPYTqmEt",
        "outputId": "48827f8c-531f-42c0-bbb7-06e6774f3514"
      },
      "execution_count": 70,
      "outputs": [
        {
          "output_type": "stream",
          "name": "stderr",
          "text": [
            "[nltk_data] Downloading package punkt to /root/nltk_data...\n",
            "[nltk_data]   Package punkt is already up-to-date!\n"
          ]
        },
        {
          "output_type": "execute_result",
          "data": {
            "text/plain": [
              "True"
            ]
          },
          "metadata": {},
          "execution_count": 70
        }
      ]
    },
    {
      "cell_type": "code",
      "source": [
        "import nltk, string\n",
        "doc = 'MERHABA! BU DERS ÇOK İLGİNÇ, VE MUHTEŞEM, ÇALIŞMAYA DEVAM EDELİM BUNU ANLAMAK GEREKİYOR .'\n"
      ],
      "metadata": {
        "id": "S-iOBOCVqq3O"
      },
      "execution_count": 71,
      "outputs": []
    },
    {
      "cell_type": "code",
      "source": [
        "#burada harfleri küçülteceğiz\n",
        "tokens = doc.lower()\n",
        "print(tokens)"
      ],
      "metadata": {
        "colab": {
          "base_uri": "https://localhost:8080/"
        },
        "id": "4JVnxjNbq-Qy",
        "outputId": "9bc6721d-61ac-4e26-cbcf-fd0f4f1035aa"
      },
      "execution_count": 72,
      "outputs": [
        {
          "output_type": "stream",
          "name": "stdout",
          "text": [
            "merhaba! bu ders çok i̇lgi̇nç, ve muhteşem, çalişmaya devam edeli̇m bunu anlamak gereki̇yor .\n"
          ]
        }
      ]
    },
    {
      "cell_type": "code",
      "source": [
        "#burada noktalama işaretlerini çıkartacağız\n",
        "tokens = nltk.word_tokenize(doc)\n",
        "tokens_without_punctuation = [word for word in tokens if word not in string.punctuation]\n",
        "cleaned_doc = ' '.join(tokens_without_punctuation)\n",
        "print(cleaned_doc)\n"
      ],
      "metadata": {
        "colab": {
          "base_uri": "https://localhost:8080/"
        },
        "id": "c9aM69GFtEB4",
        "outputId": "b1593d54-ccce-4db1-d877-380b58f7f886"
      },
      "execution_count": 73,
      "outputs": [
        {
          "output_type": "stream",
          "name": "stdout",
          "text": [
            "MERHABA BU DERS ÇOK İLGİNÇ VE MUHTEŞEM ÇALIŞMAYA DEVAM EDELİM BUNU ANLAMAK GEREKİYOR\n"
          ]
        }
      ]
    },
    {
      "cell_type": "code",
      "source": [
        "# brada köke indirgeme yaparak geliştirme yapacağım\n",
        "from nltk.stem import PorterStemmer\n",
        "new_doc=\"MERHABA! BU DERS ÇOK İLGİNÇ, VE MUHTEŞEM, ÇALIŞMAYA DEVAM EDELİM BUNU ANLAMAK GEREKİYOR\"\n",
        "words = nltk.word_tokenize(new_doc)\n",
        "porter = PorterStemmer()\n",
        "stemmed_words=[porter.stem(word) for word in words]\n",
        "stemmed_text = ' '.join(stemmed_words)\n",
        "\n",
        "print(\"ilk metin: \")\n",
        "print(new_doc)\n",
        "print(\"kök metin :\")\n",
        "print(stemmed_text)"
      ],
      "metadata": {
        "colab": {
          "base_uri": "https://localhost:8080/"
        },
        "id": "RhQOk649utQA",
        "outputId": "4e1ab6ff-6d92-41d7-decb-673acf5059b6"
      },
      "execution_count": 74,
      "outputs": [
        {
          "output_type": "stream",
          "name": "stdout",
          "text": [
            "ilk metin: \n",
            "MERHABA! BU DERS ÇOK İLGİNÇ, VE MUHTEŞEM, ÇALIŞMAYA DEVAM EDELİM BUNU ANLAMAK GEREKİYOR\n",
            "kök metin :\n",
            "merhaba ! bu der çok i̇lgi̇nç , ve muhteşem , çalişmaya devam edeli̇m bunu anlamak gereki̇yor\n"
          ]
        }
      ]
    },
    {
      "cell_type": "code",
      "source": [
        "# brada Kelime Çiftleri (Bigrams) çiftlerini bulup yazdıracağım\n",
        "from nltk import word_tokenize\n",
        "from nltk.util import ngrams\n",
        "from nltk.stem import PorterStemmer\n",
        "porter = PorterStemmer()\n",
        "text = \"MERHABA! BU DERS ÇOK İLGİNÇ, VE MUHTEŞEM, ÇALIŞMAYA DEVAM EDELİM BUNU ANLAMAK GEREKİYOR.\"\n",
        "words = word_tokenize(text.lower())\n",
        "stemmed_words = [porter.stem(word) for word in words]\n",
        "\n",
        "bigrams = list(ngrams(stemmed_words, 2))\n",
        "\n",
        "\n",
        "\n",
        "print(\"Köklerine İndirgenmiş Kelime Çiftleri:\")\n",
        "for bigram in bigrams:\n",
        "    print(bigram)"
      ],
      "metadata": {
        "colab": {
          "base_uri": "https://localhost:8080/"
        },
        "id": "34H1oVt3zTjv",
        "outputId": "ebf94a2d-ebb8-47f2-ff73-c3c44f50f89c"
      },
      "execution_count": 75,
      "outputs": [
        {
          "output_type": "stream",
          "name": "stdout",
          "text": [
            "Köklerine İndirgenmiş Kelime Çiftleri:\n",
            "('merhaba', '!')\n",
            "('!', 'bu')\n",
            "('bu', 'der')\n",
            "('der', 'çok')\n",
            "('çok', 'i̇lgi̇nç')\n",
            "('i̇lgi̇nç', ',')\n",
            "(',', 've')\n",
            "('ve', 'muhteşem')\n",
            "('muhteşem', ',')\n",
            "(',', 'çalişmaya')\n",
            "('çalişmaya', 'devam')\n",
            "('devam', 'edeli̇m')\n",
            "('edeli̇m', 'bunu')\n",
            "('bunu', 'anlamak')\n",
            "('anlamak', 'gereki̇yor')\n",
            "('gereki̇yor', '.')\n"
          ]
        }
      ]
    },
    {
      "cell_type": "code",
      "source": [
        "#brada lancaster Stemmer kullanarak Kelime Çiftleri (Bigrams) bulup yazdıracağım\n",
        "from nltk.stem import LancasterStemmer\n",
        "from nltk import word_tokenize\n",
        "from nltk.util import ngrams\n",
        "\n",
        "lancaster = LancasterStemmer()\n",
        "text = \"MERHABA! BU DERS ÇOK İLGİNÇ, VE MUHTEŞEM, ÇALIŞMAYA DEVAM EDELİM BUNU ANLAMAK GEREKİYOR.\"\n",
        "words = word_tokenize(text.lower())\n",
        "stemmed_words = [lancaster.stem(word) for word in words]\n",
        "bigrams = list(ngrams(stemmed_words, 2))\n",
        "print(\"Köklerine İndirgenmiş Kelime Çiftleri (Lancaster Stemmer):\")\n",
        "for bigram in bigrams:\n",
        "    print(bigram)"
      ],
      "metadata": {
        "colab": {
          "base_uri": "https://localhost:8080/"
        },
        "id": "Zsmu74bz2Zef",
        "outputId": "edf97173-8c28-4091-915c-adb2bb1b0e16"
      },
      "execution_count": 76,
      "outputs": [
        {
          "output_type": "stream",
          "name": "stdout",
          "text": [
            "Köklerine İndirgenmiş Kelime Çiftleri (Lancaster Stemmer):\n",
            "('merhab', '!')\n",
            "('!', 'bu')\n",
            "('bu', 'der')\n",
            "('der', 'çok')\n",
            "('çok', 'i̇lgi̇nç')\n",
            "('i̇lgi̇nç', ',')\n",
            "(',', 've')\n",
            "('ve', 'muhteşem')\n",
            "('muhteşem', ',')\n",
            "(',', 'çalişmay')\n",
            "('çalişmay', 'devam')\n",
            "('devam', 'edeli̇m')\n",
            "('edeli̇m', 'bunu')\n",
            "('bunu', 'anlamak')\n",
            "('anlamak', 'gereki̇yor')\n",
            "('gereki̇yor', '.')\n"
          ]
        }
      ]
    },
    {
      "cell_type": "code",
      "source": [],
      "metadata": {
        "id": "fX38_Z2mQPCx"
      },
      "execution_count": null,
      "outputs": []
    }
  ]
}